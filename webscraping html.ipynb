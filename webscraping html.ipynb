{
 "cells": [
  {
   "cell_type": "code",
   "execution_count": 2,
   "metadata": {},
   "outputs": [],
   "source": [
    "import pandas as pd\n",
    "from bs4 import BeautifulSoup\n",
    "from selenium.webdriver.chrome.options import Options\n",
    "from selenium import webdriver\n",
    "import time\n",
    "import numpy as np\n",
    "import csv"
   ]
  },
  {
   "cell_type": "code",
   "execution_count": 3,
   "metadata": {},
   "outputs": [],
   "source": [
    "category = \"cars\"\n",
    "search_Query = \"renault kwid\"\n",
    "partitioned_search = search_Query.partition(\" \")\n",
    "filter_1 = partitioned_search[0]\n",
    "filter_2 = partitioned_search[2]\n",
    "year_max = \"\"\n",
    "year_min = \"\"\n",
    "base_url = f\"https://jiji.co.ke/{category}?query={search_Query}&filter_attr_1_make={filter_1}&filter_attr_2_model={filter_2}&filter_attr_119_year_of_manufacture__min={year_min}&filter_attr_119_year_of_manufacture__max={year_max}\"\n",
    "#https://jiji.co.ke/cars?query=suzuki%20swift&filter_attr_1_make=Suzuki&filter_attr_2_model=Swift"
   ]
  },
  {
   "cell_type": "code",
   "execution_count": 4,
   "metadata": {},
   "outputs": [
    {
     "data": {
      "text/plain": [
       "'renault'"
      ]
     },
     "execution_count": 4,
     "metadata": {},
     "output_type": "execute_result"
    }
   ],
   "source": [
    "filter_1"
   ]
  },
  {
   "cell_type": "code",
   "execution_count": 5,
   "metadata": {},
   "outputs": [],
   "source": [
    "driver_url = \"C:/Users/Collins/Desktop/chromedriver_win32/chromedriver\""
   ]
  },
  {
   "cell_type": "code",
   "execution_count": 6,
   "metadata": {},
   "outputs": [],
   "source": [
    "wd = webdriver.Chrome(executable_path=driver_url)"
   ]
  },
  {
   "cell_type": "code",
   "execution_count": 7,
   "metadata": {},
   "outputs": [],
   "source": [
    "wd.get(base_url)"
   ]
  },
  {
   "cell_type": "code",
   "execution_count": 8,
   "metadata": {},
   "outputs": [],
   "source": [
    "lenOfPage = wd.execute_script(\"window.scrollTo(0, document.body.scrollHeight);var lenOfPage=document.body.scrollHeight;return lenOfPage;\")\n",
    "match=False\n",
    "while(match==False):\n",
    "        lastCount = lenOfPage\n",
    "        time.sleep(3)\n",
    "        lenOfPage = wd.execute_script(\"window.scrollTo(0, document.body.scrollHeight);var lenOfPage=document.body.scrollHeight;return lenOfPage;\")\n",
    "        if lastCount==lenOfPage:\n",
    "                    match=True"
   ]
  },
  {
   "cell_type": "code",
   "execution_count": 9,
   "metadata": {},
   "outputs": [],
   "source": [
    "#wd.page_source.encode(\"utf-8\",\"ignore\")"
   ]
  },
  {
   "cell_type": "code",
   "execution_count": 10,
   "metadata": {},
   "outputs": [
    {
     "ename": "UnicodeEncodeError",
     "evalue": "'charmap' codec can't encode character '\\u25b7' in position 334889: character maps to <undefined>",
     "output_type": "error",
     "traceback": [
      "\u001b[1;31m---------------------------------------------------------------------------\u001b[0m",
      "\u001b[1;31mUnicodeEncodeError\u001b[0m                        Traceback (most recent call last)",
      "\u001b[1;32mc:\\Users\\Collins\\Desktop\\webscraping\\webscraping html.ipynb Cell 9'\u001b[0m in \u001b[0;36m<cell line: 1>\u001b[1;34m()\u001b[0m\n\u001b[0;32m      <a href='vscode-notebook-cell:/c%3A/Users/Collins/Desktop/webscraping/webscraping%20html.ipynb#ch0000008?line=0'>1</a>\u001b[0m \u001b[39mwith\u001b[39;00m \u001b[39mopen\u001b[39m(\u001b[39m\"\u001b[39m\u001b[39mhtml_scripts/test.html\u001b[39m\u001b[39m\"\u001b[39m, \u001b[39m\"\u001b[39m\u001b[39mw\u001b[39m\u001b[39m\"\u001b[39m) \u001b[39mas\u001b[39;00m file:\n\u001b[1;32m----> <a href='vscode-notebook-cell:/c%3A/Users/Collins/Desktop/webscraping/webscraping%20html.ipynb#ch0000008?line=1'>2</a>\u001b[0m     file\u001b[39m.\u001b[39;49mwrite( wd\u001b[39m.\u001b[39;49mpage_source)\n",
      "File \u001b[1;32mc:\\Users\\Collins\\Miniconda3\\envs\\webscraping\\lib\\encodings\\cp1252.py:19\u001b[0m, in \u001b[0;36mIncrementalEncoder.encode\u001b[1;34m(self, input, final)\u001b[0m\n\u001b[0;32m     <a href='file:///c%3A/Users/Collins/Miniconda3/envs/webscraping/lib/encodings/cp1252.py?line=17'>18</a>\u001b[0m \u001b[39mdef\u001b[39;00m \u001b[39mencode\u001b[39m(\u001b[39mself\u001b[39m, \u001b[39minput\u001b[39m, final\u001b[39m=\u001b[39m\u001b[39mFalse\u001b[39;00m):\n\u001b[1;32m---> <a href='file:///c%3A/Users/Collins/Miniconda3/envs/webscraping/lib/encodings/cp1252.py?line=18'>19</a>\u001b[0m     \u001b[39mreturn\u001b[39;00m codecs\u001b[39m.\u001b[39;49mcharmap_encode(\u001b[39minput\u001b[39;49m,\u001b[39mself\u001b[39;49m\u001b[39m.\u001b[39;49merrors,encoding_table)[\u001b[39m0\u001b[39m]\n",
      "\u001b[1;31mUnicodeEncodeError\u001b[0m: 'charmap' codec can't encode character '\\u25b7' in position 334889: character maps to <undefined>"
     ]
    }
   ],
   "source": [
    "\n",
    "with open(\"html_scripts/test.html\", \"w\") as file:\n",
    "    file.write( wd.page_source)\n",
    "    "
   ]
  },
  {
   "cell_type": "code",
   "execution_count": null,
   "metadata": {},
   "outputs": [],
   "source": [
    "with open(\"html_scripts/test.html\", \"rb\") as file:\n",
    "    context = file.read()\n",
    "\n",
    "    soup = BeautifulSoup(context,'lxml')\n",
    "    tags =soup.find_all('img')\n",
    "    main_div = soup.findAll(\"div\" , attrs ={\"class\":\"b-list-advert__wrapper qa-advert-list-item\"} )\n",
    "    img = []\n",
    "    for i in main_div:\n",
    "        c= i.findAll(\"source\", attrs = {\"class\":\"\"})\n",
    "        img.append(c)\n",
    "    #for i in tags:\n",
    "    #    print(i.attrs['src'])\"b_list-advert_item-wrapper\""
   ]
  },
  {
   "cell_type": "code",
   "execution_count": null,
   "metadata": {},
   "outputs": [
    {
     "data": {
      "text/plain": [
       "[[<source srcset=\"https://pictures-kenya.jijistatic.com/31665051_MzAwLTE3Mi1mMjE3NzA2NjA4.webp\"> <img class=\"\" src=\"https://pictures-kenya.jijistatic.com/31665051_MzAwLTE3Mi1mMjE3NzA2NjA4.webp\" style=\"height: 100%; width: 100%;\"/></source>],\n",
       " [<source srcset=\"https://pictures-kenya.jijistatic.com/24630415_MzAwLTIyNS04N2Y5ZWFkNjMx.webp\"> <img class=\"\" src=\"https://pictures-kenya.jijistatic.com/24630415_MzAwLTIyNS04N2Y5ZWFkNjMx.webp\" style=\"height: 100%; width: 100%;\"/></source>],\n",
       " [<source srcset=\"https://pictures-kenya.jijistatic.com/31727073_MzAwLTUzMy1lZGRjM2RkMjdm.webp\"> <img class=\"\" src=\"https://pictures-kenya.jijistatic.com/31727073_MzAwLTUzMy1lZGRjM2RkMjdm.webp\" style=\"height: 100%; width: 100%;\"/></source>],\n",
       " [<source srcset=\"https://pictures-kenya.jijistatic.com/30152334_MzAwLTIyNS0zODI2MmVkNjgyLTE.webp\"> <img class=\"\" src=\"https://pictures-kenya.jijistatic.com/30152334_MzAwLTIyNS0zODI2MmVkNjgyLTE.webp\" style=\"height: 100%; width: 100%;\"/></source>],\n",
       " [<source srcset=\"https://pictures-kenya.jijistatic.com/31665051_MzAwLTE3Mi1mMjE3NzA2NjA4.webp\"> <img class=\"\" src=\"https://pictures-kenya.jijistatic.com/31665051_MzAwLTE3Mi1mMjE3NzA2NjA4.webp\" style=\"height: 100%; width: 100%;\"/></source>],\n",
       " [<source srcset=\"https://pictures-kenya.jijistatic.com/24630415_MzAwLTIyNS04N2Y5ZWFkNjMx.webp\"> <img class=\"\" src=\"https://pictures-kenya.jijistatic.com/24630415_MzAwLTIyNS04N2Y5ZWFkNjMx.webp\" style=\"height: 100%; width: 100%;\"/></source>],\n",
       " [<source srcset=\"https://pictures-kenya.jijistatic.com/29832090_MzAwLTIyNS1iZTUzYjQ1MjI3.webp\"> <img class=\"\" src=\"https://pictures-kenya.jijistatic.com/29832090_MzAwLTIyNS1iZTUzYjQ1MjI3.webp\" style=\"transform: translateX(5.6px) translateY(0px) scale(0.933333); object-fit: none; position: static; height: auto; width: auto;\"/></source>]]"
      ]
     },
     "execution_count": 67,
     "metadata": {},
     "output_type": "execute_result"
    }
   ],
   "source": [
    "img"
   ]
  },
  {
   "cell_type": "code",
   "execution_count": null,
   "metadata": {},
   "outputs": [
    {
     "data": {
      "text/plain": [
       "'\\r\\n        Renault Kwid 2018 Silver\\r\\n    '"
      ]
     },
     "execution_count": 68,
     "metadata": {},
     "output_type": "execute_result"
    }
   ],
   "source": [
    "with open(\"html_scripts/test.html\", \"rb\") as file:\n",
    "    context = file.read()\n",
    "\n",
    "    soup = BeautifulSoup(context,'lxml')\n",
    "    tags = soup.find_all('div')\n",
    "    prices = soup.findAll('div',attrs={\"class\":\"qa-advert-price\"})\n",
    "    tag_names = soup.findAll('div',attrs={\"class\":\"b-advert-title-inner qa-advert-title b-advert-title-inner--h3\"})\n",
    "    use = soup.findAll('div',attrs={\"class\":\"b-list-advert__item-attr\"})\n",
    "    j=[]\n",
    "    temp = []\n",
    "    z =0\n",
    "    for z in (prices):\n",
    "        temp.append(z.text.replace('\\n','').replace(' ',''))\n",
    "        j.append(temp)\n",
    "        #print(j.text)\n",
    "x = pd.DataFrame(j)      \n",
    "tag_names[0].text\n"
   ]
  },
  {
   "cell_type": "code",
   "execution_count": null,
   "metadata": {},
   "outputs": [],
   "source": [
    "from w3lib.html import remove_tags\n",
    "with open(\"html_scripts/test.html\",\"rb\") as file:\n",
    "    context = file.read()\n",
    "    soup = BeautifulSoup(context,'lxml')\n",
    "    main_div = soup.findAll(\"div\", attrs={\"class\":\"b-list-advert__item-wrapper\"})\n",
    "    item_attr = []\n",
    "    price = []\n",
    "    c = 0\n",
    "    attr_only=[]\n",
    "    for i in main_div:\n",
    "        attr = i.findAll(\"div\", attrs={\"class\":\"b-list-advert__item-attr\"})\n",
    "        price= i.findAll('div',attrs={\"class\":\"qa-advert-price\"})  \n",
    "        attr_names = i.findAll('div',attrs={\"class\":\"b-advert-title-inner qa-advert-title b-advert-title-inner--h3\"})\n",
    "        img= i.findAll(\"source\", attrs = {\"class\":\"\"})\n",
    "        link = i.find(\"a\",attrs = {\"class\":\"js-handle-click-ctr\"}).attrs['href']\n",
    "        link = \"jiji.co.ke\"+link\n",
    "        region = i.find(\"span\",attrs = {\"class\":\"b-list-advert__region__text\"})\n",
    "        description = i.find(\"div\", attrs = {\"class\": \"b-list-advert__description\"})\n",
    "        all_attr=[attr_names,price,attr,img,link,region,description]\n",
    "        item_attr.append(all_attr)\n",
    "        attr_only.append(attr)\n",
    "        c+=1\n",
    "        #time.sleep(5)    "
   ]
  },
  {
   "cell_type": "code",
   "execution_count": null,
   "metadata": {},
   "outputs": [
    {
     "name": "stdout",
     "output_type": "stream",
     "text": [
      "\n",
      "                                Foreign Used\n",
      "                                \n",
      "\n",
      "                                Automatic\n",
      "                                \n"
     ]
    },
    {
     "ename": "IndexError",
     "evalue": "list index out of range",
     "output_type": "error",
     "traceback": [
      "\u001b[1;31m---------------------------------------------------------------------------\u001b[0m",
      "\u001b[1;31mIndexError\u001b[0m                                Traceback (most recent call last)",
      "\u001b[1;32mc:\\Users\\Collins\\Desktop\\webscraping\\webscraping html.ipynb Cell 14'\u001b[0m in \u001b[0;36m<cell line: 1>\u001b[1;34m()\u001b[0m\n\u001b[0;32m      <a href='vscode-notebook-cell:/c%3A/Users/Collins/Desktop/webscraping/webscraping%20html.ipynb#ch0000013?line=0'>1</a>\u001b[0m \u001b[39mfor\u001b[39;00m i \u001b[39min\u001b[39;00m \u001b[39mrange\u001b[39m(\u001b[39m0\u001b[39m,\u001b[39mlen\u001b[39m(attr_only)):\n\u001b[1;32m----> <a href='vscode-notebook-cell:/c%3A/Users/Collins/Desktop/webscraping/webscraping%20html.ipynb#ch0000013?line=1'>2</a>\u001b[0m     \u001b[39mif\u001b[39;00m attr_only[i][\u001b[39m2\u001b[39;49m] \u001b[39mis\u001b[39;00m \u001b[39mnot\u001b[39;00m \u001b[39mNone\u001b[39;00m:\n\u001b[0;32m      <a href='vscode-notebook-cell:/c%3A/Users/Collins/Desktop/webscraping/webscraping%20html.ipynb#ch0000013?line=2'>3</a>\u001b[0m         \u001b[39mprint\u001b[39m(attr_only[i][i]\u001b[39m.\u001b[39mtext)\n",
      "\u001b[1;31mIndexError\u001b[0m: list index out of range"
     ]
    }
   ],
   "source": [
    "for i in range(0,len(attr_only)):\n",
    "    if attr_only[i][2] is not None:\n",
    "        print(attr_only[i][i].text)"
   ]
  },
  {
   "cell_type": "code",
   "execution_count": null,
   "metadata": {},
   "outputs": [
    {
     "data": {
      "text/plain": [
       "[[<div class=\"b-advert-title-inner qa-advert-title b-advert-title-inner--h3\">\n",
       "          Renault Kwid 2017 Silver\n",
       "      </div>],\n",
       " [<div class=\"qa-advert-price\">\n",
       "          KSh 575,000\n",
       "      </div>],\n",
       " [<div class=\"b-list-advert__item-attr\">\n",
       "                                  Kenyan Used\n",
       "                                  <!-- --></div>,\n",
       "  <div class=\"b-list-advert__item-attr\">\n",
       "                                  Automatic\n",
       "                                  <!-- --></div>,\n",
       "  <div class=\"b-list-advert__item-attr\">\n",
       "                                  32000\n",
       "                                  <span class=\"h-ml-5\">\n",
       "                                      km\n",
       "                                  </span></div>],\n",
       " [<source srcset=\"https://pictures-kenya.jijistatic.com/29832090_MzAwLTIyNS1iZTUzYjQ1MjI3.webp\"> <img class=\"\" src=\"https://pictures-kenya.jijistatic.com/29832090_MzAwLTIyNS1iZTUzYjQ1MjI3.webp\" style=\"transform: translateX(5.6px) translateY(0px) scale(0.933333); object-fit: none; position: static; height: auto; width: auto;\"/></source>],\n",
       " 'jiji.co.ke/nairobi-central/cars/renault-kwid-2017-silver-8C4bUkNUxJmonh19d1BAt4KJ.html?page=1&pos=7&cur_pos=7&ads_per_page=7&ads_count=5&lid=pvEj-G1WOe9W5gSP',\n",
       " <span class=\"b-list-advert__region__text\">\n",
       "             Nairobi, Nairobi Central\n",
       "         </span>,\n",
       " <div class=\"b-list-advert__description\"><div class=\"b-list-advert__description-text\">\n",
       "                             Quick sale 2017 Renault kwid 1000cc\n",
       "                         </div></div>]"
      ]
     },
     "execution_count": 71,
     "metadata": {},
     "output_type": "execute_result"
    }
   ],
   "source": [
    "all_attr\n",
    "\n",
    "#https://jiji.co.ke/kilimani/cars/renault-kwid-2018-silver-5vhv5PpVYQEKDaDiTGKSCrDy.html?page=1&pos=1&cur_pos=1&ads_per_page=8&ads_count=6&lid=G7Hn6gEUaabiQHIp"
   ]
  },
  {
   "cell_type": "code",
   "execution_count": null,
   "metadata": {},
   "outputs": [
    {
     "data": {
      "text/plain": [
       "[<source srcset=\"https://pictures-kenya.jijistatic.com/29832090_MzAwLTIyNS1iZTUzYjQ1MjI3.webp\"> <img class=\"\" src=\"https://pictures-kenya.jijistatic.com/29832090_MzAwLTIyNS1iZTUzYjQ1MjI3.webp\" style=\"transform: translateX(5.6px) translateY(0px) scale(0.933333); object-fit: none; position: static; height: auto; width: auto;\"/></source>]"
      ]
     },
     "execution_count": 72,
     "metadata": {},
     "output_type": "execute_result"
    }
   ],
   "source": [
    "img\n"
   ]
  },
  {
   "cell_type": "code",
   "execution_count": null,
   "metadata": {},
   "outputs": [],
   "source": [
    "#with open(\"html_scripts/test2.html\",\"a\") as file:\n",
    " #   file.write(f\"{j1[1]}"
   ]
  },
  {
   "cell_type": "code",
   "execution_count": null,
   "metadata": {},
   "outputs": [],
   "source": [
    "import csv\n",
    "from csv import writer\n",
    "for i in range(len(item_attr)):\n",
    "    with open(\"html_scripts/test2.html\",\"wb\") as file:\n",
    "    \n",
    "\n",
    "        file.write((f\"{item_attr[i]}\").encode('utf-8'))\n",
    "\n",
    "        file.close()\n",
    "        with open(\"html_scripts/test2.html\",\"r\") as file:\n",
    "            content = file.read()\n",
    "            soup = BeautifulSoup(content,\"lxml\")\n",
    "            x = soup.findAll(\"div\")\n",
    "            img_source = soup.findAll(\"img\",attrs={\"class\":\"\"})\n",
    "            j2=[]\n",
    "            \n",
    "            for i in x:\n",
    "                #print(i.text)\n",
    "                j2.append(i.text.replace(\"\\n\",\"\").replace(\"    \",\"\"))\n",
    "    \n",
    "            with open('jiji.csv', 'a') as f_object:\n",
    "\n",
    "                # Pass this file object to csv.writer()\n",
    "                # and get a writer object\n",
    "                writer_object = writer(f_object)\n",
    "\n",
    "                # Pass the list as an argument into\n",
    "                # the writerow()\n",
    "                writer_object.writerow(j2)\n",
    "\n",
    "                #Close the file object\n",
    "                f_object.close()    \n",
    "\n",
    "                "
   ]
  },
  {
   "cell_type": "code",
   "execution_count": null,
   "metadata": {},
   "outputs": [
    {
     "data": {
      "text/plain": [
       "['Renault Kwid 2017 Silver',\n",
       " 'KSh 575,000',\n",
       " 'Kenyan Used',\n",
       " 'Automatic',\n",
       " '32000km',\n",
       " 'Quick sale 2017 Renault kwid 1000cc',\n",
       " 'Quick sale 2017 Renault kwid 1000cc']"
      ]
     },
     "execution_count": 75,
     "metadata": {},
     "output_type": "execute_result"
    }
   ],
   "source": [
    "j2"
   ]
  },
  {
   "cell_type": "code",
   "execution_count": null,
   "metadata": {},
   "outputs": [],
   "source": [
    "with open(\"html_scripts/test2.html\",\"r\") as file:\n",
    "    content = file.read()\n",
    "    soup = BeautifulSoup(content,\"lxml\")\n",
    "    x = soup.findAll(\"img\",attrs={\"class\":\"\"})\n",
    "    y=[]\n",
    "    for i in x:\n",
    "        y.append(i.attrs[\"src\"])"
   ]
  },
  {
   "cell_type": "code",
   "execution_count": null,
   "metadata": {},
   "outputs": [
    {
     "data": {
      "text/plain": [
       "'https://pictures-kenya.jijistatic.com/29832090_MzAwLTIyNS1iZTUzYjQ1MjI3.webp'"
      ]
     },
     "execution_count": 77,
     "metadata": {},
     "output_type": "execute_result"
    }
   ],
   "source": [
    "y[0]"
   ]
  },
  {
   "cell_type": "code",
   "execution_count": null,
   "metadata": {},
   "outputs": [
    {
     "ename": "NameError",
     "evalue": "name 'item_attr' is not defined",
     "output_type": "error",
     "traceback": [
      "\u001b[1;31m---------------------------------------------------------------------------\u001b[0m",
      "\u001b[1;31mNameError\u001b[0m                                 Traceback (most recent call last)",
      "\u001b[1;32mc:\\Users\\Collins\\Desktop\\webscraping\\webscraping html.ipynb Cell 22'\u001b[0m in \u001b[0;36m<cell line: 3>\u001b[1;34m()\u001b[0m\n\u001b[0;32m      <a href='vscode-notebook-cell:/c%3A/Users/Collins/Desktop/webscraping/webscraping%20html.ipynb#ch0000021?line=0'>1</a>\u001b[0m \u001b[39mimport\u001b[39;00m \u001b[39mcsv\u001b[39;00m\n\u001b[0;32m      <a href='vscode-notebook-cell:/c%3A/Users/Collins/Desktop/webscraping/webscraping%20html.ipynb#ch0000021?line=1'>2</a>\u001b[0m \u001b[39mfrom\u001b[39;00m \u001b[39mcsv\u001b[39;00m \u001b[39mimport\u001b[39;00m writer\n\u001b[1;32m----> <a href='vscode-notebook-cell:/c%3A/Users/Collins/Desktop/webscraping/webscraping%20html.ipynb#ch0000021?line=2'>3</a>\u001b[0m \u001b[39mfor\u001b[39;00m i \u001b[39min\u001b[39;00m \u001b[39mrange\u001b[39m(\u001b[39mlen\u001b[39m(item_attr)):\n\u001b[0;32m      <a href='vscode-notebook-cell:/c%3A/Users/Collins/Desktop/webscraping/webscraping%20html.ipynb#ch0000021?line=3'>4</a>\u001b[0m     \u001b[39mwith\u001b[39;00m \u001b[39mopen\u001b[39m(\u001b[39m\"\u001b[39m\u001b[39mhtml_scripts/test2.html\u001b[39m\u001b[39m\"\u001b[39m,\u001b[39m\"\u001b[39m\u001b[39mwb\u001b[39m\u001b[39m\"\u001b[39m) \u001b[39mas\u001b[39;00m file:\n\u001b[0;32m      <a href='vscode-notebook-cell:/c%3A/Users/Collins/Desktop/webscraping/webscraping%20html.ipynb#ch0000021?line=6'>7</a>\u001b[0m         file\u001b[39m.\u001b[39mwrite((\u001b[39mf\u001b[39m\u001b[39m\"\u001b[39m\u001b[39m{\u001b[39;00mitem_attr[i]\u001b[39m}\u001b[39;00m\u001b[39m\"\u001b[39m)\u001b[39m.\u001b[39mencode(\u001b[39m'\u001b[39m\u001b[39mutf-8\u001b[39m\u001b[39m'\u001b[39m))\n",
      "\u001b[1;31mNameError\u001b[0m: name 'item_attr' is not defined"
     ]
    }
   ],
   "source": [
    "import csv\n",
    "from csv import writer\n",
    "for i in range(len(item_attr)):\n",
    "    with open(\"html_scripts/test2.html\",\"wb\") as file:\n",
    "    \n",
    "\n",
    "        file.write((f\"{item_attr[i]}\").encode('utf-8'))\n",
    "\n",
    "        file.close()\n",
    "        with open(\"html_scripts/test2.html\",\"r\") as file:\n",
    "            content = file.read()\n",
    "            soup = BeautifulSoup(content,\"lxml\")\n",
    "            img_source = soup.findAll(\"img\",attrs={\"class\":\"\"})\n",
    "            j2=[]\n",
    "            y =[]\n",
    "            for i in img_source:\n",
    "                #print(i.text)\n",
    "                y.append(i.attrs[\"src\"])\n",
    "    \n",
    "            with open('jiji2.csv', 'a') as f_object:\n",
    "\n",
    "                # Pass this file object to csv.writer()\n",
    "                # and get a writer object\n",
    "                writer_object = writer(f_object)\n",
    "\n",
    "                # Pass the list as an argument into\n",
    "                # the writerow()\n",
    "                writer_object.writerow(y)\n",
    "\n",
    "                #Close the file object\n",
    "                f_object.close()    \n",
    "\n",
    "                "
   ]
  },
  {
   "cell_type": "code",
   "execution_count": 80,
   "metadata": {},
   "outputs": [],
   "source": [
    "attributes = pd.read_csv(\"jiji.csv\", encoding=\"ISO-8859–1\")\n",
    "attributes.columns = ['Name','Price','Use','Gearbox','Mileage','link','description']"
   ]
  },
  {
   "cell_type": "code",
   "execution_count": 81,
   "metadata": {},
   "outputs": [],
   "source": [
    "id = []\n",
    "for i in range(0,len(attributes)):\n",
    "    id.append(i)\n",
    "attributes[\"Id\"] = id\n",
    "\n",
    "attributes = attributes[ ['Id'] + [ col for col in attributes.columns if col != 'Id' ] ]"
   ]
  },
  {
   "cell_type": "code",
   "execution_count": 82,
   "metadata": {},
   "outputs": [
    {
     "data": {
      "text/html": [
       "<div>\n",
       "<style scoped>\n",
       "    .dataframe tbody tr th:only-of-type {\n",
       "        vertical-align: middle;\n",
       "    }\n",
       "\n",
       "    .dataframe tbody tr th {\n",
       "        vertical-align: top;\n",
       "    }\n",
       "\n",
       "    .dataframe thead th {\n",
       "        text-align: right;\n",
       "    }\n",
       "</style>\n",
       "<table border=\"1\" class=\"dataframe\">\n",
       "  <thead>\n",
       "    <tr style=\"text-align: right;\">\n",
       "      <th></th>\n",
       "      <th>Id</th>\n",
       "      <th>Name</th>\n",
       "      <th>Price</th>\n",
       "      <th>Use</th>\n",
       "      <th>Gearbox</th>\n",
       "      <th>Mileage</th>\n",
       "      <th>link</th>\n",
       "      <th>description</th>\n",
       "    </tr>\n",
       "  </thead>\n",
       "  <tbody>\n",
       "    <tr>\n",
       "      <th>0</th>\n",
       "      <td>0</td>\n",
       "      <td>Renault Kwid 2018 Silver</td>\n",
       "      <td>KSh 650,000</td>\n",
       "      <td>Kenyan Used</td>\n",
       "      <td>Automatic</td>\n",
       "      <td>30650km</td>\n",
       "      <td>Renault kwid / 1000cc kms / very low fuel cons...</td>\n",
       "      <td>Renault kwid / 1000cc kms / very low fuel cons...</td>\n",
       "    </tr>\n",
       "    <tr>\n",
       "      <th>1</th>\n",
       "      <td>1</td>\n",
       "      <td>Renault Kwid 2018 Red</td>\n",
       "      <td>KSh 700,000</td>\n",
       "      <td>Foreign Used</td>\n",
       "      <td>Automatic</td>\n",
       "      <td>Hurry while the stock lasts... few vehicles re...</td>\n",
       "      <td>Hurry while the stock lasts... few vehicles re...</td>\n",
       "      <td>NaN</td>\n",
       "    </tr>\n",
       "    <tr>\n",
       "      <th>2</th>\n",
       "      <td>2</td>\n",
       "      <td>Renault Kwid 2018 Silver</td>\n",
       "      <td>KSh 630,000</td>\n",
       "      <td>Kenyan Used</td>\n",
       "      <td>AMT</td>\n",
       "      <td>31740km</td>\n",
       "      <td>NaN</td>\n",
       "      <td>NaN</td>\n",
       "    </tr>\n",
       "    <tr>\n",
       "      <th>3</th>\n",
       "      <td>3</td>\n",
       "      <td>Renault Kwid 2018 Silver</td>\n",
       "      <td>KSh 650,000</td>\n",
       "      <td>Foreign Used</td>\n",
       "      <td>Automatic</td>\n",
       "      <td>33000km</td>\n",
       "      <td>Renault Kwid/ Silver/ Year 2018/ 1000cc Auto/ ...</td>\n",
       "      <td>Renault Kwid/ Silver/ Year 2018/ 1000cc Auto/ ...</td>\n",
       "    </tr>\n",
       "    <tr>\n",
       "      <th>4</th>\n",
       "      <td>4</td>\n",
       "      <td>Renault Kwid 2018 Silver</td>\n",
       "      <td>KSh 650,000</td>\n",
       "      <td>Kenyan Used</td>\n",
       "      <td>Automatic</td>\n",
       "      <td>30650km</td>\n",
       "      <td>Renault kwid / 1000cc kms / very low fuel cons...</td>\n",
       "      <td>Renault kwid / 1000cc kms / very low fuel cons...</td>\n",
       "    </tr>\n",
       "    <tr>\n",
       "      <th>5</th>\n",
       "      <td>5</td>\n",
       "      <td>Renault Kwid 2017 Silver</td>\n",
       "      <td>KSh 575,000</td>\n",
       "      <td>Kenyan Used</td>\n",
       "      <td>Automatic</td>\n",
       "      <td>32000km</td>\n",
       "      <td>Quick sale 2017 Renault kwid 1000cc</td>\n",
       "      <td>Quick sale 2017 Renault kwid 1000cc</td>\n",
       "    </tr>\n",
       "  </tbody>\n",
       "</table>\n",
       "</div>"
      ],
      "text/plain": [
       "   Id                      Name        Price           Use    Gearbox  \\\n",
       "0   0  Renault Kwid 2018 Silver  KSh 650,000   Kenyan Used  Automatic   \n",
       "1   1     Renault Kwid 2018 Red  KSh 700,000  Foreign Used  Automatic   \n",
       "2   2  Renault Kwid 2018 Silver  KSh 630,000   Kenyan Used        AMT   \n",
       "3   3  Renault Kwid 2018 Silver  KSh 650,000  Foreign Used  Automatic   \n",
       "4   4  Renault Kwid 2018 Silver  KSh 650,000   Kenyan Used  Automatic   \n",
       "5   5  Renault Kwid 2017 Silver  KSh 575,000   Kenyan Used  Automatic   \n",
       "\n",
       "                                             Mileage  \\\n",
       "0                                            30650km   \n",
       "1  Hurry while the stock lasts... few vehicles re...   \n",
       "2                                            31740km   \n",
       "3                                            33000km   \n",
       "4                                            30650km   \n",
       "5                                            32000km   \n",
       "\n",
       "                                                link  \\\n",
       "0  Renault kwid / 1000cc kms / very low fuel cons...   \n",
       "1  Hurry while the stock lasts... few vehicles re...   \n",
       "2                                                NaN   \n",
       "3  Renault Kwid/ Silver/ Year 2018/ 1000cc Auto/ ...   \n",
       "4  Renault kwid / 1000cc kms / very low fuel cons...   \n",
       "5                Quick sale 2017 Renault kwid 1000cc   \n",
       "\n",
       "                                         description  \n",
       "0  Renault kwid / 1000cc kms / very low fuel cons...  \n",
       "1                                                NaN  \n",
       "2                                                NaN  \n",
       "3  Renault Kwid/ Silver/ Year 2018/ 1000cc Auto/ ...  \n",
       "4  Renault kwid / 1000cc kms / very low fuel cons...  \n",
       "5                Quick sale 2017 Renault kwid 1000cc  "
      ]
     },
     "execution_count": 82,
     "metadata": {},
     "output_type": "execute_result"
    }
   ],
   "source": [
    "attributes"
   ]
  },
  {
   "cell_type": "code",
   "execution_count": 83,
   "metadata": {},
   "outputs": [
    {
     "ename": "ValueError",
     "evalue": "Length mismatch: Expected axis has 2 elements, new values have 1 elements",
     "output_type": "error",
     "traceback": [
      "\u001b[1;31m---------------------------------------------------------------------------\u001b[0m",
      "\u001b[1;31mValueError\u001b[0m                                Traceback (most recent call last)",
      "\u001b[1;32mc:\\Users\\Collins\\Desktop\\webscraping\\webscraping html.ipynb Cell 26'\u001b[0m in \u001b[0;36m<cell line: 2>\u001b[1;34m()\u001b[0m\n\u001b[0;32m      <a href='vscode-notebook-cell:/c%3A/Users/Collins/Desktop/webscraping/webscraping%20html.ipynb#ch0000025?line=0'>1</a>\u001b[0m images \u001b[39m=\u001b[39m pd\u001b[39m.\u001b[39mread_csv(\u001b[39m\"\u001b[39m\u001b[39mjiji2.csv\u001b[39m\u001b[39m\"\u001b[39m)\n\u001b[1;32m----> <a href='vscode-notebook-cell:/c%3A/Users/Collins/Desktop/webscraping/webscraping%20html.ipynb#ch0000025?line=1'>2</a>\u001b[0m images\u001b[39m.\u001b[39mcolumns \u001b[39m=\u001b[39m [\u001b[39m'\u001b[39m\u001b[39mimg_link\u001b[39m\u001b[39m'\u001b[39m]\n\u001b[0;32m      <a href='vscode-notebook-cell:/c%3A/Users/Collins/Desktop/webscraping/webscraping%20html.ipynb#ch0000025?line=3'>4</a>\u001b[0m \u001b[39mid\u001b[39m \u001b[39m=\u001b[39m []\n\u001b[0;32m      <a href='vscode-notebook-cell:/c%3A/Users/Collins/Desktop/webscraping/webscraping%20html.ipynb#ch0000025?line=4'>5</a>\u001b[0m \u001b[39mfor\u001b[39;00m i \u001b[39min\u001b[39;00m \u001b[39mrange\u001b[39m(\u001b[39m0\u001b[39m,\u001b[39mlen\u001b[39m(images)):\n",
      "File \u001b[1;32mc:\\Users\\Collins\\Miniconda3\\envs\\webscraping\\lib\\site-packages\\pandas\\core\\generic.py:5588\u001b[0m, in \u001b[0;36mNDFrame.__setattr__\u001b[1;34m(self, name, value)\u001b[0m\n\u001b[0;32m   <a href='file:///c%3A/Users/Collins/Miniconda3/envs/webscraping/lib/site-packages/pandas/core/generic.py?line=5585'>5586</a>\u001b[0m \u001b[39mtry\u001b[39;00m:\n\u001b[0;32m   <a href='file:///c%3A/Users/Collins/Miniconda3/envs/webscraping/lib/site-packages/pandas/core/generic.py?line=5586'>5587</a>\u001b[0m     \u001b[39mobject\u001b[39m\u001b[39m.\u001b[39m\u001b[39m__getattribute__\u001b[39m(\u001b[39mself\u001b[39m, name)\n\u001b[1;32m-> <a href='file:///c%3A/Users/Collins/Miniconda3/envs/webscraping/lib/site-packages/pandas/core/generic.py?line=5587'>5588</a>\u001b[0m     \u001b[39mreturn\u001b[39;00m \u001b[39mobject\u001b[39;49m\u001b[39m.\u001b[39;49m\u001b[39m__setattr__\u001b[39;49m(\u001b[39mself\u001b[39;49m, name, value)\n\u001b[0;32m   <a href='file:///c%3A/Users/Collins/Miniconda3/envs/webscraping/lib/site-packages/pandas/core/generic.py?line=5588'>5589</a>\u001b[0m \u001b[39mexcept\u001b[39;00m \u001b[39mAttributeError\u001b[39;00m:\n\u001b[0;32m   <a href='file:///c%3A/Users/Collins/Miniconda3/envs/webscraping/lib/site-packages/pandas/core/generic.py?line=5589'>5590</a>\u001b[0m     \u001b[39mpass\u001b[39;00m\n",
      "File \u001b[1;32mc:\\Users\\Collins\\Miniconda3\\envs\\webscraping\\lib\\site-packages\\pandas\\_libs\\properties.pyx:70\u001b[0m, in \u001b[0;36mpandas._libs.properties.AxisProperty.__set__\u001b[1;34m()\u001b[0m\n",
      "File \u001b[1;32mc:\\Users\\Collins\\Miniconda3\\envs\\webscraping\\lib\\site-packages\\pandas\\core\\generic.py:769\u001b[0m, in \u001b[0;36mNDFrame._set_axis\u001b[1;34m(self, axis, labels)\u001b[0m\n\u001b[0;32m    <a href='file:///c%3A/Users/Collins/Miniconda3/envs/webscraping/lib/site-packages/pandas/core/generic.py?line=766'>767</a>\u001b[0m \u001b[39mdef\u001b[39;00m \u001b[39m_set_axis\u001b[39m(\u001b[39mself\u001b[39m, axis: \u001b[39mint\u001b[39m, labels: Index) \u001b[39m-\u001b[39m\u001b[39m>\u001b[39m \u001b[39mNone\u001b[39;00m:\n\u001b[0;32m    <a href='file:///c%3A/Users/Collins/Miniconda3/envs/webscraping/lib/site-packages/pandas/core/generic.py?line=767'>768</a>\u001b[0m     labels \u001b[39m=\u001b[39m ensure_index(labels)\n\u001b[1;32m--> <a href='file:///c%3A/Users/Collins/Miniconda3/envs/webscraping/lib/site-packages/pandas/core/generic.py?line=768'>769</a>\u001b[0m     \u001b[39mself\u001b[39;49m\u001b[39m.\u001b[39;49m_mgr\u001b[39m.\u001b[39;49mset_axis(axis, labels)\n\u001b[0;32m    <a href='file:///c%3A/Users/Collins/Miniconda3/envs/webscraping/lib/site-packages/pandas/core/generic.py?line=769'>770</a>\u001b[0m     \u001b[39mself\u001b[39m\u001b[39m.\u001b[39m_clear_item_cache()\n",
      "File \u001b[1;32mc:\\Users\\Collins\\Miniconda3\\envs\\webscraping\\lib\\site-packages\\pandas\\core\\internals\\managers.py:214\u001b[0m, in \u001b[0;36mBaseBlockManager.set_axis\u001b[1;34m(self, axis, new_labels)\u001b[0m\n\u001b[0;32m    <a href='file:///c%3A/Users/Collins/Miniconda3/envs/webscraping/lib/site-packages/pandas/core/internals/managers.py?line=211'>212</a>\u001b[0m \u001b[39mdef\u001b[39;00m \u001b[39mset_axis\u001b[39m(\u001b[39mself\u001b[39m, axis: \u001b[39mint\u001b[39m, new_labels: Index) \u001b[39m-\u001b[39m\u001b[39m>\u001b[39m \u001b[39mNone\u001b[39;00m:\n\u001b[0;32m    <a href='file:///c%3A/Users/Collins/Miniconda3/envs/webscraping/lib/site-packages/pandas/core/internals/managers.py?line=212'>213</a>\u001b[0m     \u001b[39m# Caller is responsible for ensuring we have an Index object.\u001b[39;00m\n\u001b[1;32m--> <a href='file:///c%3A/Users/Collins/Miniconda3/envs/webscraping/lib/site-packages/pandas/core/internals/managers.py?line=213'>214</a>\u001b[0m     \u001b[39mself\u001b[39;49m\u001b[39m.\u001b[39;49m_validate_set_axis(axis, new_labels)\n\u001b[0;32m    <a href='file:///c%3A/Users/Collins/Miniconda3/envs/webscraping/lib/site-packages/pandas/core/internals/managers.py?line=214'>215</a>\u001b[0m     \u001b[39mself\u001b[39m\u001b[39m.\u001b[39maxes[axis] \u001b[39m=\u001b[39m new_labels\n",
      "File \u001b[1;32mc:\\Users\\Collins\\Miniconda3\\envs\\webscraping\\lib\\site-packages\\pandas\\core\\internals\\base.py:69\u001b[0m, in \u001b[0;36mDataManager._validate_set_axis\u001b[1;34m(self, axis, new_labels)\u001b[0m\n\u001b[0;32m     <a href='file:///c%3A/Users/Collins/Miniconda3/envs/webscraping/lib/site-packages/pandas/core/internals/base.py?line=65'>66</a>\u001b[0m     \u001b[39mpass\u001b[39;00m\n\u001b[0;32m     <a href='file:///c%3A/Users/Collins/Miniconda3/envs/webscraping/lib/site-packages/pandas/core/internals/base.py?line=67'>68</a>\u001b[0m \u001b[39melif\u001b[39;00m new_len \u001b[39m!=\u001b[39m old_len:\n\u001b[1;32m---> <a href='file:///c%3A/Users/Collins/Miniconda3/envs/webscraping/lib/site-packages/pandas/core/internals/base.py?line=68'>69</a>\u001b[0m     \u001b[39mraise\u001b[39;00m \u001b[39mValueError\u001b[39;00m(\n\u001b[0;32m     <a href='file:///c%3A/Users/Collins/Miniconda3/envs/webscraping/lib/site-packages/pandas/core/internals/base.py?line=69'>70</a>\u001b[0m         \u001b[39mf\u001b[39m\u001b[39m\"\u001b[39m\u001b[39mLength mismatch: Expected axis has \u001b[39m\u001b[39m{\u001b[39;00mold_len\u001b[39m}\u001b[39;00m\u001b[39m elements, new \u001b[39m\u001b[39m\"\u001b[39m\n\u001b[0;32m     <a href='file:///c%3A/Users/Collins/Miniconda3/envs/webscraping/lib/site-packages/pandas/core/internals/base.py?line=70'>71</a>\u001b[0m         \u001b[39mf\u001b[39m\u001b[39m\"\u001b[39m\u001b[39mvalues have \u001b[39m\u001b[39m{\u001b[39;00mnew_len\u001b[39m}\u001b[39;00m\u001b[39m elements\u001b[39m\u001b[39m\"\u001b[39m\n\u001b[0;32m     <a href='file:///c%3A/Users/Collins/Miniconda3/envs/webscraping/lib/site-packages/pandas/core/internals/base.py?line=71'>72</a>\u001b[0m     )\n",
      "\u001b[1;31mValueError\u001b[0m: Length mismatch: Expected axis has 2 elements, new values have 1 elements"
     ]
    }
   ],
   "source": [
    "images = pd.read_csv(\"jiji2.csv\")\n",
    "images.columns = ['img_link']\n",
    "\n",
    "id = []\n",
    "for i in range(0,len(images)):\n",
    "    id.append(i)\n",
    "images[\"Id\"] = id"
   ]
  },
  {
   "cell_type": "code",
   "execution_count": 84,
   "metadata": {},
   "outputs": [
    {
     "data": {
      "text/html": [
       "<div>\n",
       "<style scoped>\n",
       "    .dataframe tbody tr th:only-of-type {\n",
       "        vertical-align: middle;\n",
       "    }\n",
       "\n",
       "    .dataframe tbody tr th {\n",
       "        vertical-align: top;\n",
       "    }\n",
       "\n",
       "    .dataframe thead th {\n",
       "        text-align: right;\n",
       "    }\n",
       "</style>\n",
       "<table border=\"1\" class=\"dataframe\">\n",
       "  <thead>\n",
       "    <tr style=\"text-align: right;\">\n",
       "      <th></th>\n",
       "      <th>https://pictures-kenya.jijistatic.com/31665051_MzAwLTE3Mi1mMjE3NzA2NjA4.webp</th>\n",
       "      <th>https://pictures-kenya.jijistatic.com/31665051_MzAwLTE3Mi1mMjE3NzA2NjA4.webp.1</th>\n",
       "    </tr>\n",
       "  </thead>\n",
       "  <tbody>\n",
       "    <tr>\n",
       "      <th>0</th>\n",
       "      <td>https://pictures-kenya.jijistatic.com/24630415...</td>\n",
       "      <td>https://pictures-kenya.jijistatic.com/24630415...</td>\n",
       "    </tr>\n",
       "    <tr>\n",
       "      <th>1</th>\n",
       "      <td>https://pictures-kenya.jijistatic.com/31727073...</td>\n",
       "      <td>https://pictures-kenya.jijistatic.com/31727073...</td>\n",
       "    </tr>\n",
       "    <tr>\n",
       "      <th>2</th>\n",
       "      <td>https://pictures-kenya.jijistatic.com/30152334...</td>\n",
       "      <td>https://pictures-kenya.jijistatic.com/30152334...</td>\n",
       "    </tr>\n",
       "    <tr>\n",
       "      <th>3</th>\n",
       "      <td>https://pictures-kenya.jijistatic.com/31665051...</td>\n",
       "      <td>https://pictures-kenya.jijistatic.com/31665051...</td>\n",
       "    </tr>\n",
       "    <tr>\n",
       "      <th>4</th>\n",
       "      <td>https://pictures-kenya.jijistatic.com/24630415...</td>\n",
       "      <td>https://pictures-kenya.jijistatic.com/24630415...</td>\n",
       "    </tr>\n",
       "    <tr>\n",
       "      <th>5</th>\n",
       "      <td>https://pictures-kenya.jijistatic.com/29832090...</td>\n",
       "      <td>https://pictures-kenya.jijistatic.com/29832090...</td>\n",
       "    </tr>\n",
       "    <tr>\n",
       "      <th>6</th>\n",
       "      <td>https://pictures-kenya.jijistatic.com/31665051...</td>\n",
       "      <td>NaN</td>\n",
       "    </tr>\n",
       "    <tr>\n",
       "      <th>7</th>\n",
       "      <td>https://pictures-kenya.jijistatic.com/24630415...</td>\n",
       "      <td>NaN</td>\n",
       "    </tr>\n",
       "    <tr>\n",
       "      <th>8</th>\n",
       "      <td>https://pictures-kenya.jijistatic.com/31727073...</td>\n",
       "      <td>NaN</td>\n",
       "    </tr>\n",
       "    <tr>\n",
       "      <th>9</th>\n",
       "      <td>https://pictures-kenya.jijistatic.com/30152334...</td>\n",
       "      <td>NaN</td>\n",
       "    </tr>\n",
       "    <tr>\n",
       "      <th>10</th>\n",
       "      <td>https://pictures-kenya.jijistatic.com/31665051...</td>\n",
       "      <td>NaN</td>\n",
       "    </tr>\n",
       "    <tr>\n",
       "      <th>11</th>\n",
       "      <td>https://pictures-kenya.jijistatic.com/24630415...</td>\n",
       "      <td>NaN</td>\n",
       "    </tr>\n",
       "    <tr>\n",
       "      <th>12</th>\n",
       "      <td>https://pictures-kenya.jijistatic.com/29832090...</td>\n",
       "      <td>NaN</td>\n",
       "    </tr>\n",
       "    <tr>\n",
       "      <th>13</th>\n",
       "      <td>https://pictures-kenya.jijistatic.com/31665051...</td>\n",
       "      <td>NaN</td>\n",
       "    </tr>\n",
       "    <tr>\n",
       "      <th>14</th>\n",
       "      <td>https://pictures-kenya.jijistatic.com/24630415...</td>\n",
       "      <td>NaN</td>\n",
       "    </tr>\n",
       "    <tr>\n",
       "      <th>15</th>\n",
       "      <td>https://pictures-kenya.jijistatic.com/31727073...</td>\n",
       "      <td>NaN</td>\n",
       "    </tr>\n",
       "    <tr>\n",
       "      <th>16</th>\n",
       "      <td>https://pictures-kenya.jijistatic.com/30152334...</td>\n",
       "      <td>NaN</td>\n",
       "    </tr>\n",
       "    <tr>\n",
       "      <th>17</th>\n",
       "      <td>https://pictures-kenya.jijistatic.com/31665051...</td>\n",
       "      <td>NaN</td>\n",
       "    </tr>\n",
       "    <tr>\n",
       "      <th>18</th>\n",
       "      <td>https://pictures-kenya.jijistatic.com/24630415...</td>\n",
       "      <td>NaN</td>\n",
       "    </tr>\n",
       "    <tr>\n",
       "      <th>19</th>\n",
       "      <td>https://pictures-kenya.jijistatic.com/29832090...</td>\n",
       "      <td>NaN</td>\n",
       "    </tr>\n",
       "  </tbody>\n",
       "</table>\n",
       "</div>"
      ],
      "text/plain": [
       "   https://pictures-kenya.jijistatic.com/31665051_MzAwLTE3Mi1mMjE3NzA2NjA4.webp  \\\n",
       "0   https://pictures-kenya.jijistatic.com/24630415...                             \n",
       "1   https://pictures-kenya.jijistatic.com/31727073...                             \n",
       "2   https://pictures-kenya.jijistatic.com/30152334...                             \n",
       "3   https://pictures-kenya.jijistatic.com/31665051...                             \n",
       "4   https://pictures-kenya.jijistatic.com/24630415...                             \n",
       "5   https://pictures-kenya.jijistatic.com/29832090...                             \n",
       "6   https://pictures-kenya.jijistatic.com/31665051...                             \n",
       "7   https://pictures-kenya.jijistatic.com/24630415...                             \n",
       "8   https://pictures-kenya.jijistatic.com/31727073...                             \n",
       "9   https://pictures-kenya.jijistatic.com/30152334...                             \n",
       "10  https://pictures-kenya.jijistatic.com/31665051...                             \n",
       "11  https://pictures-kenya.jijistatic.com/24630415...                             \n",
       "12  https://pictures-kenya.jijistatic.com/29832090...                             \n",
       "13  https://pictures-kenya.jijistatic.com/31665051...                             \n",
       "14  https://pictures-kenya.jijistatic.com/24630415...                             \n",
       "15  https://pictures-kenya.jijistatic.com/31727073...                             \n",
       "16  https://pictures-kenya.jijistatic.com/30152334...                             \n",
       "17  https://pictures-kenya.jijistatic.com/31665051...                             \n",
       "18  https://pictures-kenya.jijistatic.com/24630415...                             \n",
       "19  https://pictures-kenya.jijistatic.com/29832090...                             \n",
       "\n",
       "   https://pictures-kenya.jijistatic.com/31665051_MzAwLTE3Mi1mMjE3NzA2NjA4.webp.1  \n",
       "0   https://pictures-kenya.jijistatic.com/24630415...                              \n",
       "1   https://pictures-kenya.jijistatic.com/31727073...                              \n",
       "2   https://pictures-kenya.jijistatic.com/30152334...                              \n",
       "3   https://pictures-kenya.jijistatic.com/31665051...                              \n",
       "4   https://pictures-kenya.jijistatic.com/24630415...                              \n",
       "5   https://pictures-kenya.jijistatic.com/29832090...                              \n",
       "6                                                 NaN                              \n",
       "7                                                 NaN                              \n",
       "8                                                 NaN                              \n",
       "9                                                 NaN                              \n",
       "10                                                NaN                              \n",
       "11                                                NaN                              \n",
       "12                                                NaN                              \n",
       "13                                                NaN                              \n",
       "14                                                NaN                              \n",
       "15                                                NaN                              \n",
       "16                                                NaN                              \n",
       "17                                                NaN                              \n",
       "18                                                NaN                              \n",
       "19                                                NaN                              "
      ]
     },
     "execution_count": 84,
     "metadata": {},
     "output_type": "execute_result"
    }
   ],
   "source": [
    "images"
   ]
  },
  {
   "cell_type": "code",
   "execution_count": null,
   "metadata": {},
   "outputs": [],
   "source": [
    "merged = attributes.merge(images)"
   ]
  },
  {
   "cell_type": "code",
   "execution_count": null,
   "metadata": {},
   "outputs": [],
   "source": [
    "merged"
   ]
  },
  {
   "cell_type": "code",
   "execution_count": null,
   "metadata": {},
   "outputs": [],
   "source": [
    "type(merged.Mileage)"
   ]
  },
  {
   "cell_type": "code",
   "execution_count": null,
   "metadata": {},
   "outputs": [],
   "source": [
    "merged = merged[merged['Gearbox'].notnull()]"
   ]
  },
  {
   "cell_type": "code",
   "execution_count": null,
   "metadata": {},
   "outputs": [],
   "source": [
    "merged.isna().sum()"
   ]
  },
  {
   "cell_type": "code",
   "execution_count": null,
   "metadata": {},
   "outputs": [],
   "source": [
    "from pathlib import Path  \n",
    "filepath = Path('webscraping/car_data.csv')  \n",
    "filepath.parent.mkdir(parents=True, exist_ok=True)  \n",
    "merged.to_csv(filepath)  "
   ]
  },
  {
   "cell_type": "code",
   "execution_count": null,
   "metadata": {},
   "outputs": [],
   "source": [
    "12321%10"
   ]
  },
  {
   "cell_type": "code",
   "execution_count": null,
   "metadata": {},
   "outputs": [],
   "source": []
  }
 ],
 "metadata": {
  "interpreter": {
   "hash": "2cfa7a608f249550d6aab345eab7090507c2b02ce4442c3822eefd12bcb8bd6d"
  },
  "kernelspec": {
   "display_name": "Python 3.10.4 ('webscraping')",
   "language": "python",
   "name": "python3"
  },
  "language_info": {
   "codemirror_mode": {
    "name": "ipython",
    "version": 3
   },
   "file_extension": ".py",
   "mimetype": "text/x-python",
   "name": "python",
   "nbconvert_exporter": "python",
   "pygments_lexer": "ipython3",
   "version": "3.10.4"
  },
  "orig_nbformat": 4
 },
 "nbformat": 4,
 "nbformat_minor": 2
}
